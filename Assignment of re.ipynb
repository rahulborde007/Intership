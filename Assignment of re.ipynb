{
 "cells": [
  {
   "cell_type": "markdown",
   "id": "f39a15b7",
   "metadata": {},
   "source": [
    "# Question 1"
   ]
  },
  {
   "cell_type": "code",
   "execution_count": 6,
   "id": "2a58fb20",
   "metadata": {},
   "outputs": [
    {
     "name": "stdout",
     "output_type": "stream",
     "text": [
      "Python:Exercise:PHP:exercise:\n"
     ]
    }
   ],
   "source": [
    "import re\n",
    "\n",
    "sample_text='Python Exercise,PHP exercise.'\n",
    "result = re.sub(r'[ \\s+,.]',':',sample_text)\n",
    "print(result)\n"
   ]
  },
  {
   "cell_type": "markdown",
   "id": "46ddd581",
   "metadata": {},
   "source": [
    "# Question 2"
   ]
  },
  {
   "cell_type": "code",
   "execution_count": 7,
   "id": "0d4aec05",
   "metadata": {},
   "outputs": [
    {
     "name": "stdout",
     "output_type": "stream",
     "text": [
      "['exercise']\n"
     ]
    }
   ],
   "source": [
    "sample_text='Python Exercise,PHP exercise.'\n",
    "matched_text=re.findall(r'\\b[a-e]\\w+\\b',sample_text)\n",
    "print(matched_text)"
   ]
  },
  {
   "cell_type": "markdown",
   "id": "f0a1e546",
   "metadata": {},
   "source": [
    "# Question 3"
   ]
  },
  {
   "cell_type": "code",
   "execution_count": 8,
   "id": "ef8e21d9",
   "metadata": {},
   "outputs": [
    {
     "name": "stdout",
     "output_type": "stream",
     "text": [
      "['Python', 'Exercise', 'exercise']\n"
     ]
    }
   ],
   "source": [
    "sample_text='Python Exercise,PHP exercise.'\n",
    "pattern=re.compile(r'\\b\\w{4,}\\b')\n",
    "matched_text=pattern.findall(sample_text)\n",
    "print(matched_text)"
   ]
  },
  {
   "cell_type": "markdown",
   "id": "8fb78f4f",
   "metadata": {},
   "source": [
    "# Question 4"
   ]
  },
  {
   "cell_type": "code",
   "execution_count": 9,
   "id": "17ee7816",
   "metadata": {},
   "outputs": [
    {
     "name": "stdout",
     "output_type": "stream",
     "text": [
      "['PHP']\n"
     ]
    }
   ],
   "source": [
    "sample_text='Python Exercise,PHP exercise.'\n",
    "pattern=re.compile(r'\\b\\w{3,5}\\b')\n",
    "matches=pattern.findall(sample_text)\n",
    "print(matches)"
   ]
  },
  {
   "cell_type": "markdown",
   "id": "fe31473c",
   "metadata": {},
   "source": [
    "# question 5"
   ]
  },
  {
   "cell_type": "code",
   "execution_count": 13,
   "id": "d2c281a5",
   "metadata": {},
   "outputs": [
    {
     "name": "stdout",
     "output_type": "stream",
     "text": [
      "example.com\n",
      "hr@fliprobo.com\n",
      "github.com\n",
      "HelloDataScienceWorld\n",
      "DataScientist\n"
     ]
    }
   ],
   "source": [
    "text_list = [\"example(.com)\",\"hr@fliprobo(.com)\",\"github(.com)\",\"Hello(Data Science World)\",\"Data(Scientist)\"]\n",
    "\n",
    "pattern= re.compile(r'[\\s+,()]')\n",
    "\n",
    "for text in text_list:\n",
    "    result=pattern.sub('',text)\n",
    "    print(result)"
   ]
  },
  {
   "cell_type": "markdown",
   "id": "ac88ecb7",
   "metadata": {},
   "source": [
    "# question 6"
   ]
  },
  {
   "cell_type": "code",
   "execution_count": 20,
   "id": "96dfa9ed",
   "metadata": {},
   "outputs": [
    {
     "name": "stdout",
     "output_type": "stream",
     "text": [
      "example\n",
      "hr@fliprobo\n",
      "github\n",
      "Hello\n",
      "Data\n"
     ]
    }
   ],
   "source": [
    "sample_text=[\"example(.com)\",\"hr@fliprobo(.com)\",\"github(.com)\",\"Hello(Data science world)\",\"Data(scientiest)\"]\n",
    "\n",
    "pattern=re.compile(r'\\s*\\([^)]*\\)\\s*')\n",
    "\n",
    "for text in sample_text:\n",
    "    result=pattern.sub('',text)\n",
    "    print(result)\n",
    "\n"
   ]
  },
  {
   "cell_type": "markdown",
   "id": "63b4f0a0",
   "metadata": {},
   "source": [
    "# Question 7"
   ]
  },
  {
   "cell_type": "code",
   "execution_count": 26,
   "id": "3a9daaa2",
   "metadata": {},
   "outputs": [
    {
     "name": "stdout",
     "output_type": "stream",
     "text": [
      "['', 'Importance', 'Of', 'Regular', 'Expressions', 'In', 'Python']\n"
     ]
    }
   ],
   "source": [
    "sample_text ='ImportanceOfRegularExpressionsInPython'\n",
    "\n",
    "matches=re.split(r'(?=[A-Z])',sample_text)\n",
    "\n",
    "print(matches)\n",
    "\n"
   ]
  },
  {
   "cell_type": "markdown",
   "id": "2b052f47",
   "metadata": {},
   "source": [
    "# Question 8"
   ]
  },
  {
   "cell_type": "code",
   "execution_count": 41,
   "id": "e3fbf976",
   "metadata": {},
   "outputs": [
    {
     "name": "stdout",
     "output_type": "stream",
     "text": [
      "RegularExpression 1Is 2ImportantTopic 3InPython\n"
     ]
    }
   ],
   "source": [
    "sample_text=\"RegularExpression1Is2ImportantTopic3InPython\"\n",
    "\n",
    "modified_text = re.sub(r'(?=[0-9])',' ',sample_text)\n",
    "\n",
    "print(modified_text)"
   ]
  },
  {
   "cell_type": "markdown",
   "id": "e5a0f388",
   "metadata": {},
   "source": [
    "# Question 9"
   ]
  },
  {
   "cell_type": "code",
   "execution_count": 43,
   "id": "eb34f654",
   "metadata": {},
   "outputs": [
    {
     "name": "stdout",
     "output_type": "stream",
     "text": [
      "RegularExpression 1 IsAn 2 ImportantTopic 3 InPython\n"
     ]
    }
   ],
   "source": [
    "sample_text = \"RegularExpression1IsAn2ImportantTopic3InPython\"\n",
    "\n",
    "pattern = re.compile(r'(?=[0-9])|(?<=[0-9])')\n",
    "result = pattern.sub(' ', sample_text)\n",
    "\n",
    "print(result)"
   ]
  },
  {
   "cell_type": "markdown",
   "id": "fd104677",
   "metadata": {},
   "source": [
    "# Question 10"
   ]
  },
  {
   "cell_type": "code",
   "execution_count": 48,
   "id": "47e95558",
   "metadata": {},
   "outputs": [
    {
     "name": "stdout",
     "output_type": "stream",
     "text": [
      "xyz@domain.comand\n",
      "xyz.abc@sdomain.domain.com.Please\n",
      "hr@fliprobo.com\n"
     ]
    }
   ],
   "source": [
    "sample_text = \"Hello my name is Data Science and my email address is xyz@domain.comand alternate email address is xyz.abc@sdomain.domain.com.Please contact us at hr@fliprobo.com for further information.\"\n",
    "\n",
    "email_pattern = r'\\b[A-Za-z0-9._%+-]+@[A-Za-z0-9.-]+\\.[A-Z|a-z]{2,7}\\b'\n",
    "\n",
    "email_addresses = re.findall(email_pattern, sample_text)\n",
    "\n",
    "for email in email_addresses:\n",
    "    print(email)"
   ]
  },
  {
   "cell_type": "markdown",
   "id": "5a19c492",
   "metadata": {},
   "source": [
    "# Question 11"
   ]
  },
  {
   "cell_type": "code",
   "execution_count": 3,
   "id": "882c97c7",
   "metadata": {},
   "outputs": [
    {
     "name": "stdout",
     "output_type": "stream",
     "text": [
      "The string is valid.\n"
     ]
    }
   ],
   "source": [
    "import re\n",
    "\n",
    "sample_text = \"On_August_15th_1947\"\n",
    "\n",
    "pattern = re.compile(r'^[a-zA-Z0-9_]+$')\n",
    "match = pattern.match(sample_text)\n",
    "\n",
    "print(\"The string is valid.\")\n"
   ]
  },
  {
   "cell_type": "markdown",
   "id": "5343df0d",
   "metadata": {},
   "source": [
    "# Question 12"
   ]
  },
  {
   "cell_type": "code",
   "execution_count": 7,
   "id": "e8e893d1",
   "metadata": {},
   "outputs": [
    {
     "name": "stdout",
     "output_type": "stream",
     "text": [
      "['1', '2', '3', '4']\n"
     ]
    }
   ],
   "source": [
    "sample_text=\"1234Hellow\"\n",
    "special_number=re.findall(r'[^\\D+]',sample_text)\n",
    "print(special_number)\n"
   ]
  },
  {
   "cell_type": "markdown",
   "id": "571aaf12",
   "metadata": {},
   "source": [
    "# Question 13"
   ]
  },
  {
   "cell_type": "code",
   "execution_count": null,
   "id": "4091669b",
   "metadata": {},
   "outputs": [],
   "source": [
    "# question not understand"
   ]
  },
  {
   "cell_type": "markdown",
   "id": "5c1201f2",
   "metadata": {},
   "source": [
    "# Question 14"
   ]
  },
  {
   "cell_type": "code",
   "execution_count": null,
   "id": "cbe2db5e",
   "metadata": {},
   "outputs": [],
   "source": [
    "# not able to solve"
   ]
  },
  {
   "cell_type": "markdown",
   "id": "08416f98",
   "metadata": {},
   "source": [
    "# Question 15"
   ]
  },
  {
   "cell_type": "code",
   "execution_count": 8,
   "id": "a88bcf56",
   "metadata": {},
   "outputs": [
    {
     "name": "stdout",
     "output_type": "stream",
     "text": [
      "['fox', 'dog']\n"
     ]
    }
   ],
   "source": [
    "sample_text=\"The quick brown fox jumps over the lazy dog\"\n",
    "\n",
    "matches=re.findall('fox|dog|horse',sample_text)\n",
    "\n",
    "print(matches)"
   ]
  },
  {
   "cell_type": "markdown",
   "id": "67527c42",
   "metadata": {},
   "source": [
    "# Question 16"
   ]
  },
  {
   "cell_type": "code",
   "execution_count": 12,
   "id": "ec3dd9a9",
   "metadata": {},
   "outputs": [
    {
     "name": "stdout",
     "output_type": "stream",
     "text": [
      "<re.Match object; span=(16, 19), match='fox'>\n"
     ]
    }
   ],
   "source": [
    "sample_text='the quick brown fox jumps over the lazy dog'\n",
    "\n",
    "result=re.search(r'fox(?='')',sample_text)\n",
    "\n",
    "print(result)"
   ]
  },
  {
   "cell_type": "markdown",
   "id": "3f376977",
   "metadata": {},
   "source": [
    "# Question 17"
   ]
  },
  {
   "cell_type": "code",
   "execution_count": 11,
   "id": "88cb19f6",
   "metadata": {},
   "outputs": [
    {
     "name": "stdout",
     "output_type": "stream",
     "text": [
      "['exercise', 'exercise', 'exercise']\n"
     ]
    }
   ],
   "source": [
    "sample_text = 'Python exercises, PHP exercises, C# exercises'\n",
    "\n",
    "pattern='exercise'\n",
    "\n",
    "matches=re.findall(pattern,sample_text)\n",
    "\n",
    "print(matches)"
   ]
  },
  {
   "cell_type": "markdown",
   "id": "e600d57e",
   "metadata": {},
   "source": [
    "# Question 18"
   ]
  },
  {
   "cell_type": "code",
   "execution_count": 25,
   "id": "61617c63",
   "metadata": {},
   "outputs": [
    {
     "name": "stdout",
     "output_type": "stream",
     "text": [
      "<re.Match object; span=(7, 16), match='exercises'>\n"
     ]
    }
   ],
   "source": [
    "import re\n",
    "msges = ['Python exercises, PHP exercises, C# exercises']\n",
    "\n",
    "pattern = 'exercises'\n",
    "\n",
    "for msg in msges:\n",
    "    search=re.search('exercises',msg)\n",
    "    print(search)"
   ]
  },
  {
   "cell_type": "markdown",
   "id": "4bebcc6f",
   "metadata": {},
   "source": [
    "# Question 19"
   ]
  },
  {
   "cell_type": "code",
   "execution_count": 27,
   "id": "0b385604",
   "metadata": {},
   "outputs": [
    {
     "name": "stdout",
     "output_type": "stream",
     "text": [
      "28-08-2023\n"
     ]
    }
   ],
   "source": [
    "date = \"2023-08-28\"\n",
    "\n",
    "year, month, day = date.split('-')\n",
    "\n",
    "converted_date = f\"{day}-{month}-{year}\"\n",
    "\n",
    "print(converted_date)"
   ]
  },
  {
   "cell_type": "markdown",
   "id": "b83544ee",
   "metadata": {},
   "source": [
    "# Question 20"
   ]
  },
  {
   "cell_type": "code",
   "execution_count": 28,
   "id": "f24aa7e1",
   "metadata": {},
   "outputs": [
    {
     "name": "stdout",
     "output_type": "stream",
     "text": [
      "['01.12', '145.8', '3.01', '27.25', '0.25']\n"
     ]
    }
   ],
   "source": [
    "text = \"01.12 0132.123 2.31875 145.8 3.01 27.25 0.25\"\n",
    "\n",
    "pattern=re.compile(r'\\b\\d+\\.\\d{1,2}\\b')\n",
    "\n",
    "matches=pattern.findall(text)\n",
    "\n",
    "print(matches)"
   ]
  },
  {
   "cell_type": "markdown",
   "id": "f57b8637",
   "metadata": {},
   "source": [
    "# Question 21"
   ]
  },
  {
   "cell_type": "code",
   "execution_count": 31,
   "id": "c4b12a2b",
   "metadata": {},
   "outputs": [
    {
     "name": "stdout",
     "output_type": "stream",
     "text": [
      "Number: 101.50, Position: 25-31\n",
      "Number: 10, Position: 52-54\n"
     ]
    }
   ],
   "source": [
    "text = \"The price of apple is Rs 101.50 and the quantity is 10.\"\n",
    "\n",
    "pattern = re.compile(r'\\d+(\\.\\d+)?')\n",
    "matches = pattern.finditer(text)\n",
    "\n",
    "for match in matches:\n",
    "    number = match.group()\n",
    "    start = match.start()\n",
    "    end = match.end()\n",
    "    print(f\"Number: {number}, Position: {start}-{end}\")\n"
   ]
  },
  {
   "cell_type": "markdown",
   "id": "06e44b41",
   "metadata": {},
   "source": [
    "# Question 22"
   ]
  },
  {
   "cell_type": "code",
   "execution_count": 40,
   "id": "1772b745",
   "metadata": {},
   "outputs": [
    {
     "ename": "NameError",
     "evalue": "name 'Text' is not defined",
     "output_type": "error",
     "traceback": [
      "\u001b[1;31m---------------------------------------------------------------------------\u001b[0m",
      "\u001b[1;31mNameError\u001b[0m                                 Traceback (most recent call last)",
      "Cell \u001b[1;32mIn[40], line 7\u001b[0m\n\u001b[0;32m      3\u001b[0m Text:\u001b[38;5;124m'\u001b[39m\u001b[38;5;124mMy marks in each semester are: 947, 896, 926, 524, 734, 950, 642\u001b[39m\u001b[38;5;124m'\u001b[39m\n\u001b[0;32m      5\u001b[0m pattern \u001b[38;5;241m=\u001b[39m \u001b[38;5;124mr\u001b[39m\u001b[38;5;124m'\u001b[39m\u001b[38;5;124m\\\u001b[39m\u001b[38;5;124mb\u001b[39m\u001b[38;5;124m\\\u001b[39m\u001b[38;5;124md+\u001b[39m\u001b[38;5;124m\\\u001b[39m\u001b[38;5;124mb\u001b[39m\u001b[38;5;124m'\u001b[39m\n\u001b[1;32m----> 7\u001b[0m matches \u001b[38;5;241m=\u001b[39m re\u001b[38;5;241m.\u001b[39mfindall(pattern,Text)\n\u001b[0;32m      9\u001b[0m max_value \u001b[38;5;241m=\u001b[39m \u001b[38;5;28mmax\u001b[39m(\u001b[38;5;28mmap\u001b[39m(\u001b[38;5;28mint\u001b[39m, matches))\n\u001b[0;32m     11\u001b[0m \u001b[38;5;28mprint\u001b[39m(max_value)\n",
      "\u001b[1;31mNameError\u001b[0m: name 'Text' is not defined"
     ]
    }
   ],
   "source": [
    "import re\n",
    "\n",
    "Text:'My marks in each semester are: 947, 896, 926, 524, 734, 950, 642'\n",
    "\n",
    "pattern = r'\\b\\d+\\b'\n",
    "\n",
    "matches = re.findall(pattern,Text)\n",
    "\n",
    "max_value = max(map(int, matches))\n",
    "\n",
    "print(max_value)"
   ]
  },
  {
   "cell_type": "markdown",
   "id": "dd0a4f5e",
   "metadata": {},
   "source": [
    "# Question 23"
   ]
  },
  {
   "cell_type": "code",
   "execution_count": 42,
   "id": "dad1e933",
   "metadata": {},
   "outputs": [
    {
     "name": "stdout",
     "output_type": "stream",
     "text": [
      "Regular Expression Is An Important Topic In Python\n"
     ]
    }
   ],
   "source": [
    "text = \"RegularExpressionIsAnImportantTopicInPython\"\n",
    "\n",
    "pattern=r'(?<!^)(?=[A-Z])'\n",
    "\n",
    "modified_text=re.sub(pattern,' ',text)\n",
    "\n",
    "print(modified_text)\n",
    "\n"
   ]
  },
  {
   "cell_type": "markdown",
   "id": "a518f81f",
   "metadata": {},
   "source": [
    "# Question 24"
   ]
  },
  {
   "cell_type": "code",
   "execution_count": 46,
   "id": "b4d3c09e",
   "metadata": {},
   "outputs": [
    {
     "name": "stdout",
     "output_type": "stream",
     "text": [
      "['Am', 'Student', 'Of', 'Data', 'Trained', 'Institute']\n"
     ]
    }
   ],
   "source": [
    "text='I Am Student Of Data Trained Institute'\n",
    "\n",
    "pattern=r'[A-Z][a-z]+'\n",
    "\n",
    "modified_text=re.findall(pattern,text)\n",
    "\n",
    "print(modified_text)"
   ]
  },
  {
   "cell_type": "markdown",
   "id": "a5b50452",
   "metadata": {},
   "source": [
    "# Question 25"
   ]
  },
  {
   "cell_type": "code",
   "execution_count": 49,
   "id": "7d0676f4",
   "metadata": {},
   "outputs": [
    {
     "name": "stdout",
     "output_type": "stream",
     "text": [
      "Hello hello world\n"
     ]
    }
   ],
   "source": [
    "sample_text = \"Hello hello world world\"\n",
    "\n",
    "pattern = r'\\b(\\w+)(\\s+\\1)+\\b'\n",
    "\n",
    "result= re.sub(pattern, r'\\1', sample_text)\n",
    "\n",
    "print(result)\n"
   ]
  },
  {
   "cell_type": "markdown",
   "id": "4b9a143f",
   "metadata": {},
   "source": [
    "# Question 26"
   ]
  },
  {
   "cell_type": "code",
   "execution_count": null,
   "id": "c88c1310",
   "metadata": {},
   "outputs": [],
   "source": [
    "#not able to solve"
   ]
  },
  {
   "cell_type": "markdown",
   "id": "9109fd76",
   "metadata": {},
   "source": [
    "# Question 27"
   ]
  },
  {
   "cell_type": "code",
   "execution_count": 51,
   "id": "91d0ef54",
   "metadata": {},
   "outputs": [
    {
     "name": "stdout",
     "output_type": "stream",
     "text": [
      "['#Doltiwal', '#xyzabc', '#Demonetization']\n"
     ]
    }
   ],
   "source": [
    "sample_text = \"\"\"RT @kapil_kausik: #Doltiwal I mean #xyzabc is \"hurt\" by #Demonetization as the same has rendered USELESS <ed><U+00A0><U+00BD><ed><U+00B1><U+0089> \"acquired funds\" No wo\"\"\"\n",
    "\n",
    "result=re.findall(r'#\\w+',sample_text)\n",
    "                  \n",
    "print(result)"
   ]
  },
  {
   "cell_type": "markdown",
   "id": "635f5442",
   "metadata": {},
   "source": [
    "# Question 28"
   ]
  },
  {
   "cell_type": "code",
   "execution_count": 56,
   "id": "9fab8fd3",
   "metadata": {},
   "outputs": [
    {
     "name": "stdout",
     "output_type": "stream",
     "text": [
      "@Jags123456 Bharat band on 28??<ed><ed>Those who  are protesting #demonetization  are all different party leaders\n"
     ]
    }
   ],
   "source": [
    "import re\n",
    "\n",
    "sample_text = \"@Jags123456 Bharat band on 28??<ed><U+00A0><U+00BD><ed><U+00B8><U+0082>Those who  are protesting #demonetization  are all different party leaders\"\n",
    "\n",
    "cleaned_text = re.sub(r'<U\\+[A-F0-9]+>', '', sample_text)\n",
    "\n",
    "print(cleaned_text)\n"
   ]
  },
  {
   "cell_type": "markdown",
   "id": "3edae96d",
   "metadata": {},
   "source": [
    "# Question 29"
   ]
  },
  {
   "cell_type": "code",
   "execution_count": null,
   "id": "b41d1dc1",
   "metadata": {},
   "outputs": [],
   "source": [
    "# not able to solve"
   ]
  },
  {
   "cell_type": "markdown",
   "id": "87cacf58",
   "metadata": {},
   "source": [
    "# Question 30"
   ]
  },
  {
   "cell_type": "code",
   "execution_count": 57,
   "id": "38338cde",
   "metadata": {},
   "outputs": [
    {
     "name": "stdout",
     "output_type": "stream",
     "text": [
      " following example creates  ArrayList  a capacity   elements. 4 elements   added   ArrayList   ArrayList  trimmed accordingly.\n"
     ]
    }
   ],
   "source": [
    "import re\n",
    "\n",
    "sample_text = \"The following example creates an ArrayList with a capacity of 50 elements. 4 elements are then added to the ArrayList and the ArrayList is trimmed accordingly.\"\n",
    "\n",
    "pattern = re.compile(r'\\b\\w{2,4}\\b')\n",
    "modified_text = pattern.sub('', sample_text)\n",
    "\n",
    "print(modified_text)"
   ]
  },
  {
   "cell_type": "code",
   "execution_count": null,
   "id": "da56b64a",
   "metadata": {},
   "outputs": [],
   "source": []
  }
 ],
 "metadata": {
  "kernelspec": {
   "display_name": "Python 3 (ipykernel)",
   "language": "python",
   "name": "python3"
  },
  "language_info": {
   "codemirror_mode": {
    "name": "ipython",
    "version": 3
   },
   "file_extension": ".py",
   "mimetype": "text/x-python",
   "name": "python",
   "nbconvert_exporter": "python",
   "pygments_lexer": "ipython3",
   "version": "3.11.3"
  }
 },
 "nbformat": 4,
 "nbformat_minor": 5
}
